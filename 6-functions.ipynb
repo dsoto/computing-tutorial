{
 "cells": [
  {
   "cell_type": "markdown",
   "metadata": {},
   "source": [
    "# Defining your own function\n",
    "\n",
    "We can make our own calculation.  Imagine that you are tired of converting Celsius to Fahrenheit and want to create a function to do it.\n",
    "\n",
    "We are defining a function in Python.  Each language will have its unique syntax but the ideas will be the same.  \n",
    "The word ```def``` tells the computer that you are creating a function.  The variable inside \n",
    "the parenthesis is the input and the computer expects you to give the function a value when you use the function.  Last, the return tells the computer to give you that value when you use the function."
   ]
  },
  {
   "cell_type": "code",
   "execution_count": 15,
   "metadata": {
    "collapsed": false
   },
   "outputs": [
    {
     "data": {
      "text/plain": [
       "212.0"
      ]
     },
     "execution_count": 15,
     "metadata": {},
     "output_type": "execute_result"
    }
   ],
   "source": [
    "def c_to_f(deg_c):\n",
    "    deg_f = 9 / 5 * deg_c + 32\n",
    "    return deg_f\n",
    "\n",
    "c_to_f(100)"
   ]
  },
  {
   "cell_type": "markdown",
   "metadata": {},
   "source": [
    "Make another function called f_to_c and test that it works."
   ]
  }
 ],
 "metadata": {
  "kernelspec": {
   "display_name": "Python 3",
   "language": "python",
   "name": "python3"
  },
  "language_info": {
   "codemirror_mode": {
    "name": "ipython",
    "version": 3
   },
   "file_extension": ".py",
   "mimetype": "text/x-python",
   "name": "python",
   "nbconvert_exporter": "python",
   "pygments_lexer": "ipython3",
   "version": "3.4.4"
  }
 },
 "nbformat": 4,
 "nbformat_minor": 0
}
