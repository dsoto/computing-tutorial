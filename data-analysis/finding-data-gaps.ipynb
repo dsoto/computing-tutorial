{
 "cells": [
  {
   "cell_type": "markdown",
   "metadata": {},
   "source": [
    "# Finding data gaps\n",
    "\n",
    "Often we want to find gaps in the data.\n",
    "For example in energy analysis, we want to identify periods of energy unavailability which may be shown by a lack of data or by a prolonged period of zero voltage in a timeseries.\n",
    "\n",
    "We will show two basic approaches\n",
    "\n",
    "- Finding gaps in the reported data\n",
    "- Identifying continuous stretches of data meeting some criteria"
   ]
  },
  {
   "cell_type": "code",
   "execution_count": 1,
   "metadata": {
    "collapsed": false
   },
   "outputs": [
    {
     "data": {
      "text/html": [
       "<div>\n",
       "<table border=\"1\" class=\"dataframe\">\n",
       "  <thead>\n",
       "    <tr style=\"text-align: right;\">\n",
       "      <th></th>\n",
       "      <th>Unnamed: 0</th>\n",
       "      <th>TYPE</th>\n",
       "      <th>VALUE</th>\n",
       "    </tr>\n",
       "    <tr>\n",
       "      <th>DT</th>\n",
       "      <th></th>\n",
       "      <th></th>\n",
       "      <th></th>\n",
       "    </tr>\n",
       "  </thead>\n",
       "  <tbody>\n",
       "    <tr>\n",
       "      <th>2016-01-01 00:00:00</th>\n",
       "      <td>0</td>\n",
       "      <td>KWH</td>\n",
       "      <td>26.871</td>\n",
       "    </tr>\n",
       "    <tr>\n",
       "      <th>2016-01-01 00:15:00</th>\n",
       "      <td>1</td>\n",
       "      <td>KWH</td>\n",
       "      <td>26.874</td>\n",
       "    </tr>\n",
       "    <tr>\n",
       "      <th>2016-01-01 00:30:00</th>\n",
       "      <td>2</td>\n",
       "      <td>KWH</td>\n",
       "      <td>26.877</td>\n",
       "    </tr>\n",
       "    <tr>\n",
       "      <th>2016-01-01 00:45:00</th>\n",
       "      <td>3</td>\n",
       "      <td>KWH</td>\n",
       "      <td>26.880</td>\n",
       "    </tr>\n",
       "    <tr>\n",
       "      <th>2016-01-01 01:00:00</th>\n",
       "      <td>4</td>\n",
       "      <td>KWH</td>\n",
       "      <td>26.882</td>\n",
       "    </tr>\n",
       "  </tbody>\n",
       "</table>\n",
       "</div>"
      ],
      "text/plain": [
       "                     Unnamed: 0 TYPE   VALUE\n",
       "DT                                          \n",
       "2016-01-01 00:00:00           0  KWH  26.871\n",
       "2016-01-01 00:15:00           1  KWH  26.874\n",
       "2016-01-01 00:30:00           2  KWH  26.877\n",
       "2016-01-01 00:45:00           3  KWH  26.880\n",
       "2016-01-01 01:00:00           4  KWH  26.882"
      ]
     },
     "execution_count": 1,
     "metadata": {},
     "output_type": "execute_result"
    }
   ],
   "source": [
    "# finding gaps method\n",
    "\n",
    "%matplotlib inline\n",
    "import pandas as pd\n",
    "\n",
    "# read in data and be sure to load dates properly\n",
    "data = pd.read_csv('EVI0000111.csv', index_col=0, parse_dates=True)\n",
    "data.head()"
   ]
  },
  {
   "cell_type": "markdown",
   "metadata": {},
   "source": [
    "The key analysis step here is to subtract the preceding time value from each time value.\n",
    "This will give you an array of data with the differences between measurements.\n",
    "If your data is perfect and consistent, these will all be at the sampling interval.\n",
    "If there are data outages, there will be measurements at longer intervals.\n",
    "\n",
    "The `diff(1)` method achieves this.\n",
    "(Note that we have to use the `Series` code to get this to work.)"
   ]
  },
  {
   "cell_type": "code",
   "execution_count": 2,
   "metadata": {
    "collapsed": false
   },
   "outputs": [
    {
     "data": {
      "text/plain": [
       "0        NaT\n",
       "1   00:15:00\n",
       "2   00:15:00\n",
       "3   00:15:00\n",
       "4   00:15:00\n",
       "Name: DT, dtype: timedelta64[ns]"
      ]
     },
     "execution_count": 2,
     "metadata": {},
     "output_type": "execute_result"
    }
   ],
   "source": [
    "# take time deltas with diff function\n",
    "time_deltas = pd.Series(data.index).diff(1)\n",
    "time_deltas.head()"
   ]
  },
  {
   "cell_type": "markdown",
   "metadata": {},
   "source": [
    "Once we have this long list (30 thousand entries) of time differences, we need a way to intepret the data in a way we can manage.\n",
    "One useful way is the `value_counts()` method which you can think of as reminiscent of a histogram.\n",
    "For each time difference that is in the array, the computer will output how many times that difference occurred."
   ]
  },
  {
   "cell_type": "code",
   "execution_count": 3,
   "metadata": {
    "collapsed": false
   },
   "outputs": [
    {
     "data": {
      "text/plain": [
       "0 days 00:15:00    29676\n",
       "0 days 00:30:00      546\n",
       "0 days 00:45:00       13\n",
       "0 days 01:00:00        5\n",
       "0 days 02:30:00        3\n",
       "0 days 01:45:00        3\n",
       "0 days 01:15:00        3\n",
       "0 days 05:15:00        2\n",
       "0 days 03:15:00        1\n",
       "0 days 18:30:00        1\n",
       "0 days 19:15:00        1\n",
       "0 days 11:15:00        1\n",
       "2 days 05:30:00        1\n",
       "0 days 17:00:00        1\n",
       "0 days 10:45:00        1\n",
       "3 days 00:00:00        1\n",
       "0 days 02:00:00        1\n",
       "0 days 04:30:00        1\n",
       "0 days 03:45:00        1\n",
       "0 days 07:00:00        1\n",
       "0 days 02:15:00        1\n",
       "2 days 01:00:00        1\n",
       "0 days 01:30:00        1\n",
       "1 days 06:45:00        1\n",
       "Name: DT, dtype: int64"
      ]
     },
     "execution_count": 3,
     "metadata": {},
     "output_type": "execute_result"
    }
   ],
   "source": [
    "time_deltas.value_counts()"
   ]
  },
  {
   "cell_type": "markdown",
   "metadata": {},
   "source": [
    "Now, we want to only consider the time differences greater than a certain size since these are the important lapses in data.\n",
    "For this example, we restrict our interest to differences greater than thirty minutes and use value_counts to make a list."
   ]
  },
  {
   "cell_type": "code",
   "execution_count": 4,
   "metadata": {
    "collapsed": false
   },
   "outputs": [
    {
     "data": {
      "text/plain": [
       "0 days 00:45:00    13\n",
       "0 days 01:00:00     5\n",
       "0 days 01:15:00     3\n",
       "0 days 01:45:00     3\n",
       "0 days 02:30:00     3\n",
       "0 days 05:15:00     2\n",
       "0 days 11:15:00     1\n",
       "0 days 03:15:00     1\n",
       "0 days 19:15:00     1\n",
       "0 days 02:00:00     1\n",
       "0 days 18:30:00     1\n",
       "1 days 06:45:00     1\n",
       "0 days 07:00:00     1\n",
       "0 days 01:30:00     1\n",
       "0 days 17:00:00     1\n",
       "0 days 02:15:00     1\n",
       "2 days 05:30:00     1\n",
       "2 days 01:00:00     1\n",
       "0 days 10:45:00     1\n",
       "0 days 04:30:00     1\n",
       "3 days 00:00:00     1\n",
       "0 days 03:45:00     1\n",
       "Name: DT, dtype: int64"
      ]
     },
     "execution_count": 4,
     "metadata": {},
     "output_type": "execute_result"
    }
   ],
   "source": [
    "# filter out short time_deltas\n",
    "time_deltas[time_deltas > '00:30:00'].value_counts()"
   ]
  },
  {
   "cell_type": "markdown",
   "metadata": {},
   "source": [
    "To quantify this, we can use the `sum()` method on this filtered list.\n",
    "This will give us the total time that has large gaps of data."
   ]
  },
  {
   "cell_type": "code",
   "execution_count": 5,
   "metadata": {
    "collapsed": false
   },
   "outputs": [
    {
     "data": {
      "text/plain": [
       "Timedelta('14 days 12:00:00')"
      ]
     },
     "execution_count": 5,
     "metadata": {},
     "output_type": "execute_result"
    }
   ],
   "source": [
    "# sum up time_deltas\n",
    "time_deltas[time_deltas > '00:30:00'].sum()"
   ]
  },
  {
   "cell_type": "code",
   "execution_count": null,
   "metadata": {
    "collapsed": true
   },
   "outputs": [],
   "source": []
  }
 ],
 "metadata": {
  "kernelspec": {
   "display_name": "Python 3",
   "language": "python",
   "name": "python3"
  },
  "language_info": {
   "codemirror_mode": {
    "name": "ipython",
    "version": 3
   },
   "file_extension": ".py",
   "mimetype": "text/x-python",
   "name": "python",
   "nbconvert_exporter": "python",
   "pygments_lexer": "ipython3",
   "version": "3.4.5"
  }
 },
 "nbformat": 4,
 "nbformat_minor": 0
}
