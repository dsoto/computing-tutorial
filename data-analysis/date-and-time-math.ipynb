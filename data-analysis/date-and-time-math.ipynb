{
 "cells": [
  {
   "cell_type": "markdown",
   "metadata": {},
   "source": [
    "# Doing math on dates and times\n",
    "\n",
    "Much of the data in energy comes from time series.  \n",
    "We often want to know what time period has elapsed between two observations.\n",
    "Getting the computer to do this is possible but finicky.\n",
    "\n",
    "## Objectives\n",
    "\n",
    "- difference between a time stamp and a time delta\n",
    "- performing subtraction\n",
    "- converting a time delta with units to a number without units"
   ]
  },
  {
   "cell_type": "code",
   "execution_count": 14,
   "metadata": {
    "collapsed": false
   },
   "outputs": [],
   "source": [
    "import pandas as pd\n",
    "import io\n",
    "\n",
    "data_simple = '''date,energy (kWh)\n",
    "2017-01-01 00:00,0\n",
    "2017-01-01 01:00,1\n",
    "2017-01-01 02:00,2\n",
    "2017-01-01 03:00,3\n",
    "2017-01-01 04:00,4\n",
    "2017-01-01 05:00,5\n",
    "2017-01-01 07:00,7\n",
    "2017-01-01 08:00,8\n",
    "'''\n",
    "\n",
    "data = pd.read_csv(io.StringIO(data_simple), index_col=0, parse_dates=True)\n",
    "\n",
    "# note that the index is a series of dates and the dtype is 'datetime64[ns]'\n",
    "\n",
    "# the easiest way to do arithmetic on your dates is to make it a column\n",
    "# this is redundant, but has advantages\n",
    "data['time'] = data.index"
   ]
  },
  {
   "cell_type": "code",
   "execution_count": 15,
   "metadata": {
    "collapsed": false
   },
   "outputs": [
    {
     "data": {
      "text/plain": [
       "date\n",
       "2017-01-01 00:00:00        NaT\n",
       "2017-01-01 01:00:00   01:00:00\n",
       "2017-01-01 02:00:00   01:00:00\n",
       "2017-01-01 03:00:00   01:00:00\n",
       "2017-01-01 04:00:00   01:00:00\n",
       "2017-01-01 05:00:00   01:00:00\n",
       "2017-01-01 07:00:00   02:00:00\n",
       "2017-01-01 08:00:00   01:00:00\n",
       "Name: time, dtype: timedelta64[ns]"
      ]
     },
     "execution_count": 15,
     "metadata": {},
     "output_type": "execute_result"
    }
   ],
   "source": [
    "# note that the dtype is now timedelta64[ns]\n",
    "data['time'].diff(1)"
   ]
  },
  {
   "cell_type": "code",
   "execution_count": 19,
   "metadata": {
    "collapsed": false
   },
   "outputs": [
    {
     "data": {
      "text/plain": [
       "Timedelta('0 days 08:00:00')"
      ]
     },
     "execution_count": 19,
     "metadata": {},
     "output_type": "execute_result"
    }
   ],
   "source": [
    "# this is useful, but it isn't a number that you can do \"math\" with\n",
    "# note that the timedelta has dimensions and \n",
    "import numpy as np\n",
    "data['time'].diff(1).sum()"
   ]
  },
  {
   "cell_type": "code",
   "execution_count": 18,
   "metadata": {
    "collapsed": false
   },
   "outputs": [
    {
     "data": {
      "text/plain": [
       "8.0"
      ]
     },
     "execution_count": 18,
     "metadata": {},
     "output_type": "execute_result"
    }
   ],
   "source": [
    "# to convert to a number without units, you can divide by a 1 hour time delta\n",
    "data['time'].diff(1).sum() / np.timedelta64(1, 'h')"
   ]
  },
  {
   "cell_type": "code",
   "execution_count": null,
   "metadata": {
    "collapsed": true
   },
   "outputs": [],
   "source": []
  }
 ],
 "metadata": {
  "kernelspec": {
   "display_name": "Python 3",
   "language": "python",
   "name": "python3"
  },
  "language_info": {
   "codemirror_mode": {
    "name": "ipython",
    "version": 3
   },
   "file_extension": ".py",
   "mimetype": "text/x-python",
   "name": "python",
   "nbconvert_exporter": "python",
   "pygments_lexer": "ipython3",
   "version": "3.4.5"
  }
 },
 "nbformat": 4,
 "nbformat_minor": 0
}
