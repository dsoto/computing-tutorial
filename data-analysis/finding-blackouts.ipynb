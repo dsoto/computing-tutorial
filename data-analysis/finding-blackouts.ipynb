{
 "cells": [
  {
   "cell_type": "code",
   "execution_count": 1,
   "metadata": {
    "collapsed": true
   },
   "outputs": [],
   "source": [
    "import pandas as pd\n",
    "import numpy as np"
   ]
  },
  {
   "cell_type": "code",
   "execution_count": 4,
   "metadata": {
    "collapsed": false
   },
   "outputs": [],
   "source": [
    "def uptime_duration(data, value_threshold, verbose=False):\n",
    "    #FIXME how are you dealing with selecting the column\n",
    "    # assumption: we are only summing the uptimes that are completely within our data selection\n",
    "    grid_on = data['Voltage V'] > value_threshold\n",
    "\n",
    "    # by doing a pair-wise subtraction we get the changes in the grid\n",
    "    grid_events = grid_on.astype(int).diff(1).dropna()\n",
    "    grid_events = grid_events[grid_events != 0.0]\n",
    "\n",
    "    # we want the first event to be a grid on event\n",
    "    if grid_events.iloc[0] == -1:\n",
    "        grid_events = grid_events[1:]\n",
    "    # we want the last event to be a grid off event\n",
    "    if grid_events.iloc[-1] == 1:\n",
    "        grid_events = grid_events[:-1]\n",
    "\n",
    "    # by subtracting the datetime indices for the events, we get the durations\n",
    "    grid_goes_on = grid_events[grid_events == 1]\n",
    "    grid_goes_off = grid_events[grid_events == -1]\n",
    "    durations = (grid_goes_off.index - grid_goes_on.index) / np.timedelta64(1,'h')\n",
    "\n",
    "    durations = pd.DataFrame(data = {'durations':durations}, index = grid_goes_on.index)\n",
    "    return float(durations.sum())"
   ]
  },
  {
   "cell_type": "code",
   "execution_count": 5,
   "metadata": {
    "collapsed": false
   },
   "outputs": [
    {
     "data": {
      "text/plain": [
       "durations    348.566667\n",
       "dtype: float64"
      ]
     },
     "execution_count": 5,
     "metadata": {},
     "output_type": "execute_result"
    }
   ],
   "source": [
    "value_threshold = 100\n",
    "\n",
    "plug_load = pd.read_csv('Plug_Load_Logger7916 (1).csv', skiprows=1, index_col=1, parse_dates=True)\n",
    "uptime_duration(plug_load, value_threshold)"
   ]
  },
  {
   "cell_type": "code",
   "execution_count": null,
   "metadata": {
    "collapsed": true
   },
   "outputs": [],
   "source": []
  }
 ],
 "metadata": {
  "kernelspec": {
   "display_name": "Python 3 (Anaconda)",
   "language": "python",
   "name": "anaconda3"
  },
  "language_info": {
   "codemirror_mode": {
    "name": "ipython",
    "version": 3
   },
   "file_extension": ".py",
   "mimetype": "text/x-python",
   "name": "python",
   "nbconvert_exporter": "python",
   "pygments_lexer": "ipython3",
   "version": "3.5.3"
  }
 },
 "nbformat": 4,
 "nbformat_minor": 0
}
