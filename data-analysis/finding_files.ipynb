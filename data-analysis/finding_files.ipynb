{
 "cells": [
  {
   "cell_type": "markdown",
   "metadata": {},
   "source": [
    "# Finding Files\n",
    "\n",
    "To open a file, the computer must know its exact name and location.\n",
    "For files in the same directory that your notebook is in, you use the full name of the filename.\n",
    "For example:\n",
    "\n",
    "    filename = 'test.csv'\n",
    "    pd.read_csv(filename)\n",
    "    \n",
    "If the file is in a directory (say `data`) within your directory, you use a slash to separate the directory and the filename.\n",
    "\n",
    "    filename = 'data/test.csv'\n",
    "    pd.read_csv(filename)\n",
    "\n",
    "Now, if the file is in a directory above your directory, you need to use the dot-dot syntax (`..`).\n",
    "\n",
    "    filename = '../test.csv'\n",
    "    pd.read_csv(filename)\n",
    "    \n",
    "\n",
    "Note that there are several terminal commands for seeing where you are or looking for files (ls, pwd).\n",
    "You can run these in the notebook by putting an exclamation point before them.\n",
    "\n",
    "    !ls\n",
    "    !pwd\n",
    "    \n",
    "You can read more about these at this [link](http://swcarpentry.github.io/shell-novice/02-filedir/)\n",
    "provided by the good folks at Software Carpentry."
   ]
  }
 ],
 "metadata": {
  "kernelspec": {
   "display_name": "Python 3",
   "language": "python",
   "name": "python3"
  },
  "language_info": {
   "codemirror_mode": {
    "name": "ipython",
    "version": 3
   },
   "file_extension": ".py",
   "mimetype": "text/x-python",
   "name": "python",
   "nbconvert_exporter": "python",
   "pygments_lexer": "ipython3",
   "version": "3.4.5"
  }
 },
 "nbformat": 4,
 "nbformat_minor": 0
}
