{
 "cells": [
  {
   "cell_type": "code",
   "execution_count": 1,
   "metadata": {
    "collapsed": false
   },
   "outputs": [
    {
     "data": {
      "text/html": [
       "<div>\n",
       "<table border=\"1\" class=\"dataframe\">\n",
       "  <thead>\n",
       "    <tr style=\"text-align: right;\">\n",
       "      <th></th>\n",
       "      <th>Timestamp</th>\n",
       "      <th>Temperature</th>\n",
       "      <th>Humidity</th>\n",
       "      <th>CO2</th>\n",
       "      <th>Noise</th>\n",
       "      <th>Pressure</th>\n",
       "      <th>Outside Temp (C)</th>\n",
       "    </tr>\n",
       "    <tr>\n",
       "      <th>Timezone : America/Los_Angeles</th>\n",
       "      <th></th>\n",
       "      <th></th>\n",
       "      <th></th>\n",
       "      <th></th>\n",
       "      <th></th>\n",
       "      <th></th>\n",
       "      <th></th>\n",
       "    </tr>\n",
       "  </thead>\n",
       "  <tbody>\n",
       "    <tr>\n",
       "      <th>2016-02-19 13:00:00</th>\n",
       "      <td>1.455918e+09</td>\n",
       "      <td>20.511111</td>\n",
       "      <td>70.777778</td>\n",
       "      <td>372.428571</td>\n",
       "      <td>45.333333</td>\n",
       "      <td>1015.722222</td>\n",
       "      <td>11.208621</td>\n",
       "    </tr>\n",
       "    <tr>\n",
       "      <th>2016-02-19 14:00:00</th>\n",
       "      <td>1.455921e+09</td>\n",
       "      <td>21.466667</td>\n",
       "      <td>64.750000</td>\n",
       "      <td>286.666667</td>\n",
       "      <td>53.166667</td>\n",
       "      <td>1015.816667</td>\n",
       "      <td>11.700000</td>\n",
       "    </tr>\n",
       "    <tr>\n",
       "      <th>2016-02-19 15:00:00</th>\n",
       "      <td>1.455925e+09</td>\n",
       "      <td>21.933333</td>\n",
       "      <td>62.333333</td>\n",
       "      <td>373.916667</td>\n",
       "      <td>41.666667</td>\n",
       "      <td>1015.850000</td>\n",
       "      <td>11.758333</td>\n",
       "    </tr>\n",
       "    <tr>\n",
       "      <th>2016-02-19 16:00:00</th>\n",
       "      <td>1.455928e+09</td>\n",
       "      <td>22.250000</td>\n",
       "      <td>60.833333</td>\n",
       "      <td>397.833333</td>\n",
       "      <td>38.333333</td>\n",
       "      <td>1016.258333</td>\n",
       "      <td>12.141667</td>\n",
       "    </tr>\n",
       "    <tr>\n",
       "      <th>2016-02-19 17:00:00</th>\n",
       "      <td>1.455932e+09</td>\n",
       "      <td>22.500000</td>\n",
       "      <td>59.833333</td>\n",
       "      <td>397.250000</td>\n",
       "      <td>38.000000</td>\n",
       "      <td>1016.983333</td>\n",
       "      <td>11.571667</td>\n",
       "    </tr>\n",
       "  </tbody>\n",
       "</table>\n",
       "</div>"
      ],
      "text/plain": [
       "                                   Timestamp  Temperature   Humidity  \\\n",
       "Timezone : America/Los_Angeles                                         \n",
       "2016-02-19 13:00:00             1.455918e+09    20.511111  70.777778   \n",
       "2016-02-19 14:00:00             1.455921e+09    21.466667  64.750000   \n",
       "2016-02-19 15:00:00             1.455925e+09    21.933333  62.333333   \n",
       "2016-02-19 16:00:00             1.455928e+09    22.250000  60.833333   \n",
       "2016-02-19 17:00:00             1.455932e+09    22.500000  59.833333   \n",
       "\n",
       "                                       CO2      Noise     Pressure  \\\n",
       "Timezone : America/Los_Angeles                                       \n",
       "2016-02-19 13:00:00             372.428571  45.333333  1015.722222   \n",
       "2016-02-19 14:00:00             286.666667  53.166667  1015.816667   \n",
       "2016-02-19 15:00:00             373.916667  41.666667  1015.850000   \n",
       "2016-02-19 16:00:00             397.833333  38.333333  1016.258333   \n",
       "2016-02-19 17:00:00             397.250000  38.000000  1016.983333   \n",
       "\n",
       "                                Outside Temp (C)  \n",
       "Timezone : America/Los_Angeles                    \n",
       "2016-02-19 13:00:00                    11.208621  \n",
       "2016-02-19 14:00:00                    11.700000  \n",
       "2016-02-19 15:00:00                    11.758333  \n",
       "2016-02-19 16:00:00                    12.141667  \n",
       "2016-02-19 17:00:00                    11.571667  "
      ]
     },
     "execution_count": 1,
     "metadata": {},
     "output_type": "execute_result"
    }
   ],
   "source": [
    "import pandas as pd\n",
    "\n",
    "data = pd.read_csv('ETC-QCLCD-2016-2017.csv', index_col=0, parse_dates=True)\n",
    "data.head()"
   ]
  },
  {
   "cell_type": "code",
   "execution_count": 2,
   "metadata": {
    "collapsed": false
   },
   "outputs": [
    {
     "data": {
      "text/plain": [
       "Timezone : America/Los_Angeles\n",
       "2016-02-19     9.975188\n",
       "2016-02-20     8.874722\n",
       "2016-02-21     9.735972\n",
       "2016-02-22    12.193316\n",
       "2016-02-23    11.891042\n",
       "Freq: D, Name: Outside Temp (C), dtype: float64"
      ]
     },
     "execution_count": 2,
     "metadata": {},
     "output_type": "execute_result"
    }
   ],
   "source": [
    "means = data['Outside Temp (C)'].resample('1D').mean()\n",
    "means.head()"
   ]
  },
  {
   "cell_type": "code",
   "execution_count": 3,
   "metadata": {
    "collapsed": false
   },
   "outputs": [
    {
     "data": {
      "text/plain": [
       "<matplotlib.axes._subplots.AxesSubplot at 0x10d7a8748>"
      ]
     },
     "execution_count": 3,
     "metadata": {},
     "output_type": "execute_result"
    },
    {
     "data": {
      "image/png": "[encoded data removed]",
      "text/plain": [
       "<matplotlib.figure.Figure at 0x10c7b3908>"
      ]
     },
     "metadata": {},
     "output_type": "display_data"
    }
   ],
   "source": [
    "%matplotlib inline\n",
    "means.plot()"
   ]
  },
  {
   "cell_type": "code",
   "execution_count": null,
   "metadata": {
    "collapsed": true
   },
   "outputs": [],
   "source": []
  }
 ],
 "metadata": {
  "kernelspec": {
   "display_name": "Python 3",
   "language": "python",
   "name": "python3"
  },
  "language_info": {
   "codemirror_mode": {
    "name": "ipython",
    "version": 3
   },
   "file_extension": ".py",
   "mimetype": "text/x-python",
   "name": "python",
   "nbconvert_exporter": "python",
   "pygments_lexer": "ipython3",
   "version": "3.4.5"
  },
  "widgets": {
   "state": {},
   "version": "1.1.2"
  }
 },
 "nbformat": 4,
 "nbformat_minor": 0
}
