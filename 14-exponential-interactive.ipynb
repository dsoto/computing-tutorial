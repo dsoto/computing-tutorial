{
 "cells": [
  {
   "cell_type": "code",
   "execution_count": 1,
   "metadata": {},
   "outputs": [
    {
     "name": "stdout",
     "output_type": "stream",
     "text": [
      "ipywidgets version 7.5.1\n",
      "bqplot version 0.12.5\n"
     ]
    }
   ],
   "source": [
    "from bqplot import *\n",
    "import bqplot.marks as bqm\n",
    "import bqplot.scales as bqs\n",
    "import bqplot.axes as bqa\n",
    "import numpy as np\n",
    "import bqplot as bq\n",
    "from IPython.display import display\n",
    "import ipywidgets as widgets\n",
    "from scipy.integrate import odeint\n",
    "\n",
    "print('ipywidgets version', widgets.__version__)\n",
    "print('bqplot version', bq.__version__)"
   ]
  },
  {
   "cell_type": "code",
   "execution_count": 9,
   "metadata": {},
   "outputs": [
    {
     "data": {
      "application/vnd.jupyter.widget-view+json": {
       "model_id": "69f6d875019b413cbe4d5b0b1713fe8d",
       "version_major": 2,
       "version_minor": 0
      },
      "text/plain": [
       "VBox(children=(FloatSlider(value=1.0, description='A', max=2.0, min=-2.0, step=0.01), FloatSlider(value=1.0, d…"
      ]
     },
     "metadata": {},
     "output_type": "display_data"
    }
   ],
   "source": [
    "A_start = 1.0\n",
    "beta_start = 1.0\n",
    "\n",
    "def update_plot(*args):\n",
    "    line.y = calc_line(A_slider.value, beta_slider.value)\n",
    "\n",
    "def calc_line(A, beta):\n",
    "    return A * np.exp(t * beta)\n",
    "\n",
    "A_slider = widgets.FloatSlider(value=A_start, min=-2.0, max=2.0, step=0.01, description='A')\n",
    "A_slider.observe(update_plot, 'value')\n",
    "\n",
    "beta_slider = widgets.FloatSlider(value=beta_start, min=-2.0, max=2.0, step=0.01, description='beta')\n",
    "beta_slider.observe(update_plot, 'value')\n",
    "\n",
    "scale_x = bqs.LinearScale()\n",
    "scale_y = bqs.LinearScale()\n",
    "\n",
    "t = np.linspace(0, 3, 20)\n",
    "y = calc_line(A_slider.value, beta_slider.value)\n",
    "\n",
    "\n",
    "\n",
    "\n",
    "line = bqm.Lines(x=t, y=y, scales={'x': scale_x, 'y': scale_y}, colors=['blue'])\n",
    "orig_line = bqm.Lines(x=t, y=y, scales={'x': scale_x, 'y': scale_y}, colors=['green'])\n",
    "\n",
    "fig = bq.Figure(marks=[line, orig_line], \n",
    "                axes=[bqa.Axis(scale=scale_x), \n",
    "                      bqa.Axis(scale=scale_y, orientation='vertical')]) \n",
    "box = widgets.VBox([A_slider, beta_slider, fig])\n",
    "\n",
    "display(box)\n"
   ]
  },
  {
   "cell_type": "code",
   "execution_count": null,
   "metadata": {},
   "outputs": [],
   "source": []
  }
 ],
 "metadata": {
  "kernelspec": {
   "display_name": "Python 3",
   "language": "python",
   "name": "python3"
  },
  "language_info": {
   "codemirror_mode": {
    "name": "ipython",
    "version": 3
   },
   "file_extension": ".py",
   "mimetype": "text/x-python",
   "name": "python",
   "nbconvert_exporter": "python",
   "pygments_lexer": "ipython3",
   "version": "3.8.1"
  }
 },
 "nbformat": 4,
 "nbformat_minor": 4
}
