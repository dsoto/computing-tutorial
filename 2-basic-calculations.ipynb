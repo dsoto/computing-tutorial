{
 "cells": [
  {
   "cell_type": "markdown",
   "metadata": {},
   "source": [
    "# The Jupyter Notebook\n",
    "\n",
    "This tool allows you to mix and match computation and text.  The boxes you see are called cells.  You can choose the type of cell by choosing either \"Markdown\" from the dropdown menu for text or \"Code\" to create calculations.\n",
    "\n",
    "The benefit of being able to have both text and computation intermingled in the same document, is that you can make the intention of your computations more clear by describing your assumptions and methods in words to make your mathematics more clear.\n",
    "\n",
    "# Basic Calculations\n",
    "\n",
    "This tool can be used almost exactly like modern calculators that allow you to enter an algebraic expression and then evaluate it.\n",
    "\n",
    "Here, each of these boxes is called a cell, and the contents of the cell are evaluated when you hold down the shift key and then hit the enter key.  \n",
    "\n",
    "It is worth noting that some cells are for writing text, while other cells are for performing computations.  \n",
    "\n",
    "Now, you won't find all the symbols that you find on a calculator on a computer keyboard so it won't always be clear how to enter mathematics.  Luckily, most programs are similar, and the internet is your friend to find references and examples."
   ]
  },
  {
   "cell_type": "code",
   "execution_count": 1,
   "metadata": {
    "collapsed": false
   },
   "outputs": [
    {
     "data": {
      "text/plain": [
       "0.5"
      ]
     },
     "execution_count": 1,
     "metadata": {},
     "output_type": "execute_result"
    }
   ],
   "source": [
    "(1 + 2) / (2 + 4)"
   ]
  },
  {
   "cell_type": "code",
   "execution_count": 2,
   "metadata": {
    "collapsed": false
   },
   "outputs": [
    {
     "data": {
      "text/plain": [
       "2.4"
      ]
     },
     "execution_count": 2,
     "metadata": {},
     "output_type": "execute_result"
    }
   ],
   "source": [
    "3 * 4 / 5"
   ]
  },
  {
   "cell_type": "markdown",
   "metadata": {},
   "source": [
    "## Exponentiation\n",
    "\n",
    "Many computer programs and calculators use the ```^``` symbol to perform exponentiation.  We are using python and python uses ```**```.  "
   ]
  },
  {
   "cell_type": "code",
   "execution_count": 3,
   "metadata": {
    "collapsed": false
   },
   "outputs": [
    {
     "data": {
      "text/plain": [
       "9"
      ]
     },
     "execution_count": 3,
     "metadata": {},
     "output_type": "execute_result"
    }
   ],
   "source": [
    "3**2"
   ]
  },
  {
   "cell_type": "markdown",
   "metadata": {},
   "source": [
    "# Common Mistakes\n",
    "\n",
    "You will need to unlearn a few habits that you may have writing math on paper and from using calculators.\n",
    "\n",
    "- You do not need to put an equals after your mathematical expression.  Equals has a meaning to the computer different than what you are used to and puts what is on the right hand side on the left.\n",
    "- You should not put commas in a large number.  The comma has a different meaning to the computer and will create a list of numbers instead of one big number."
   ]
  },
  {
   "cell_type": "code",
   "execution_count": 3,
   "metadata": {
    "collapsed": false
   },
   "outputs": [
    {
     "ename": "SyntaxError",
     "evalue": "invalid syntax (<ipython-input-3-8870230ece51>, line 1)",
     "output_type": "error",
     "traceback": [
      "\u001b[0;36m  File \u001b[0;32m\"<ipython-input-3-8870230ece51>\"\u001b[0;36m, line \u001b[0;32m1\u001b[0m\n\u001b[0;31m    3 + 3 =\u001b[0m\n\u001b[0m           ^\u001b[0m\n\u001b[0;31mSyntaxError\u001b[0m\u001b[0;31m:\u001b[0m invalid syntax\n"
     ]
    }
   ],
   "source": [
    "3 + 3 ="
   ]
  },
  {
   "cell_type": "code",
   "execution_count": 4,
   "metadata": {
    "collapsed": false
   },
   "outputs": [
    {
     "data": {
      "text/plain": [
       "(1, 0)"
      ]
     },
     "execution_count": 4,
     "metadata": {},
     "output_type": "execute_result"
    }
   ],
   "source": [
    "1,000"
   ]
  },
  {
   "cell_type": "code",
   "execution_count": null,
   "metadata": {
    "collapsed": true
   },
   "outputs": [],
   "source": []
  }
 ],
 "metadata": {
  "kernelspec": {
   "display_name": "Python 3",
   "language": "python",
   "name": "python3"
  },
  "language_info": {
   "codemirror_mode": {
    "name": "ipython",
    "version": 3
   },
   "file_extension": ".py",
   "mimetype": "text/x-python",
   "name": "python",
   "nbconvert_exporter": "python",
   "pygments_lexer": "ipython3",
   "version": "3.4.4"
  }
 },
 "nbformat": 4,
 "nbformat_minor": 0
}
