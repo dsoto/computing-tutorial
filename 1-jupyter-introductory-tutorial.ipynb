{
 "cells": [
  {
   "cell_type": "markdown",
   "metadata": {},
   "source": [
    "# Introduction\n",
    "\n",
    "This is a tool that will allow you to mix word processing with computation.  This combination makes it possible to explain computations while explicitly showing the details of those computations.  \n",
    "\n",
    "While this tool will seem unfamiliar at first, students find it extremely useful and powerful.  If you are able to use this tool, you will be able to learn other tools like Excel or Matlab very quickly.\n",
    "\n",
    "We will begin by treating this tool much as you would the common TI-84 calculator.  However, these tools have been used to detect black hole collisions and many other sophisticated tasks.  As you progress in your learning, you can add more complexity and power to your skills."
   ]
  },
  {
   "cell_type": "markdown",
   "metadata": {},
   "source": [
    "## SageMathCloud\n",
    "\n",
    "We use SageMathCloud to provide an easy-to-use platform for our\n",
    "computations\n",
    "\n",
    "- Create an account at Sage Math Cloud\n",
    "- Use your nice_person@sonoma.edu email address\n",
    "- We will add you to our class\n",
    "- You will be able to access class content and various tools"
   ]
  },
  {
   "cell_type": "markdown",
   "metadata": {},
   "source": [
    "# Cells\n",
    "\n",
    "- The notebook consists of cells\n",
    "- You tell the computer how to interpret each cell\n",
    "- You can have a cell sent to a word processor\n",
    "- You can have a cell sent to a calculator\n",
    "- To send the cell and display the result, press shift+enter\n",
    "- You can think of these cells as paragraphs in your work"
   ]
  },
  {
   "cell_type": "markdown",
   "metadata": {},
   "source": [
    "# Calculator\n",
    "\n",
    "- You can use this tool much like you use a common calculator\n",
    "- Unlike your calculator, only the last result in the cell will be shown\n",
    "- You can break things up into more cells to show more results"
   ]
  },
  {
   "cell_type": "code",
   "execution_count": 2,
   "metadata": {
    "collapsed": false
   },
   "outputs": [
    {
     "data": {
      "text/plain": [
       "4"
      ]
     },
     "execution_count": 2,
     "metadata": {},
     "output_type": "execute_result"
    }
   ],
   "source": [
    "1 + 1\n",
    "2 + 2"
   ]
  },
  {
   "cell_type": "markdown",
   "metadata": {},
   "source": [
    "# Jupyter Concepts\n",
    "\n",
    "- Markup and Markdown\n",
    "- Markup and LaTeX\n",
    "- Python\n",
    "- Jupyter\n",
    "\n",
    "## Jupyter\n",
    "\n",
    "- Jupyter is like a word processor and spreadsheet in one program\n",
    "- By mixing words and computations together, you can clearly explain\n",
    "    your approach to an estimation\n",
    "- It has blocks or cells of text that are sent to the program of your\n",
    "    choice to be interpreted\n",
    "- Markdown: our word processor\n",
    "- Python: our spreadsheet or computation program\n",
    "- You press shift-enter to evaluate a cell\n",
    "\n",
    "Use the menus \"Cell->Cell Type->Markdown\" and \"Cell->Cell Type->Code\" to \n",
    "change the program that interprets the cell below.  Notice the different results."
   ]
  },
  {
   "cell_type": "code",
   "execution_count": 6,
   "metadata": {
    "collapsed": false
   },
   "outputs": [
    {
     "data": {
      "text/plain": [
       "2"
      ]
     },
     "execution_count": 6,
     "metadata": {},
     "output_type": "execute_result"
    }
   ],
   "source": [
    "# This is a cell\n",
    "\n",
    "1 + 1"
   ]
  },
  {
   "cell_type": "markdown",
   "metadata": {},
   "source": [
    "## Markdown\n",
    "\n",
    "- You can think of this as a word processor\n",
    "- By selecting markdown as the type of cell, jupyter sends the text to\n",
    "    markdown to be interpreted\n",
    "- Special characters are use to tell the computer to make headings or\n",
    "    **bold** or *italic* characters\n",
    "- Double click on this cell to see the raw text that the computer uses.\n",
    "- Try it yourself and make some changes\n",
    "\n",
    "You can learn more at the following links:\n",
    "\n",
    "- [Markdown Reference](http://commonmark.org/help/)\n",
    "- [Markdown Wikipedia Article](https://en.wikipedia.org/wiki/Markdown)\n"
   ]
  },
  {
   "cell_type": "markdown",
   "metadata": {},
   "source": [
    "## LaTeX\n",
    "\n",
    "- This is a word processor especially for math\n",
    "- By placing dollar signs ($) around some text, it is sent to LaTeX to\n",
    "    be interpreted\n",
    "- You can use this to write fractions and many other mathematical\n",
    "    symbols\n",
    "- You can find some LaTeX commands and symbols at this\n",
    "    [link](http://estudijas.lu.lv/pluginfile.php/14809/mod_page/content/16/instrukcijas/matematika_moodle/LaTeX_Symbols.pdf)\n",
    "\n",
    "\n",
    "For example\n",
    "```\n",
    "\\frac{1}{2}\n",
    "```\n",
    "will turn into\n",
    "$$\\frac{1}{2}$$\n",
    "\n",
    "You can also make more complicated expressions\n",
    "\n",
    "$$\\sum_{i=1}{N} \\frac{1}{i^2}$$\n",
    "\n",
    "### Notes\n",
    "\n",
    "- For reasons I don't understand, there is a vertical line on the right of math.\n",
    "- Markdown sees the text inside the dollar signs and sends it to the latex program"
   ]
  },
  {
   "cell_type": "markdown",
   "metadata": {},
   "source": [
    "# An example\n",
    "\n",
    "This shows how we can use Markdown, LaTeX, and Python code to make a very clear explanation of our estimation.\n",
    "\n",
    "Say that we want to determine how many slices of pizza we need to feed the class.  We begin with the assumption that, on average, each student will eat 2 slices of pizza.  We also assume that there are 40 students in the class.\n",
    "\n",
    "We can express this as an equation\n",
    "\n",
    "$$ N_{slices} = \\alpha \\cdot N_{students} $$\n",
    "\n",
    "Where \n",
    "\n",
    "- $N_{slices}$ is the number of slices needed\n",
    "- $\\alpha$ is the number of slices per person\n",
    "- $N_{students}$ is the number of students we need to feed.\n",
    "\n",
    "Below, we use Python to calculate the number of slices.  Note that you can easily change a number and execute the cell again to see how the answer changes.  For a simple calculation this seems unnecessary, but for a more complex calculation it can save time and avoid errors."
   ]
  },
  {
   "cell_type": "code",
   "execution_count": 9,
   "metadata": {
    "collapsed": false
   },
   "outputs": [
    {
     "name": "stdout",
     "output_type": "stream",
     "text": [
      "Slices needed = 80\n"
     ]
    }
   ],
   "source": [
    "number_students = 40\n",
    "slices_per_student = 2\n",
    "number_slices = number_students * slices_per_student\n",
    "print('Slices needed =', number_slices)"
   ]
  },
  {
   "cell_type": "code",
   "execution_count": null,
   "metadata": {
    "collapsed": true
   },
   "outputs": [],
   "source": []
  }
 ],
 "metadata": {
  "kernelspec": {
   "display_name": "Python 3",
   "language": "python",
   "name": "python3"
  },
  "language_info": {
   "codemirror_mode": {
    "name": "ipython",
    "version": 3
   },
   "file_extension": ".py",
   "mimetype": "text/x-python",
   "name": "python",
   "nbconvert_exporter": "python",
   "pygments_lexer": "ipython3",
   "version": "3.4.4"
  }
 },
 "nbformat": 4,
 "nbformat_minor": 0
}
