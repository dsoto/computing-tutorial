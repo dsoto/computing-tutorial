{
 "cells": [
  {
   "cell_type": "markdown",
   "metadata": {
    "collapsed": true
   },
   "source": [
    "# Variables\n",
    "\n",
    "You can come up with a name and ask the computer to store a number in it.  You can then use this name in computations.  This has several advantages in understanding the computation and reducing the opportunity for errors."
   ]
  },
  {
   "cell_type": "markdown",
   "metadata": {},
   "source": [
    "# Why use variables?\n",
    "\n",
    "One important benefit of using more advanced computing tools is that we can refer to numbers by a name that helps us understand the meaning of each number we are using and the intent of the calculation.\n",
    "\n",
    "Look at this calculation much like you would enter it on a calculator.  It is very clear that you are multiplying the number 30 by the number 50 but there is no indication of why you are doing that."
   ]
  },
  {
   "cell_type": "code",
   "execution_count": 1,
   "metadata": {
    "collapsed": false
   },
   "outputs": [
    {
     "data": {
      "text/plain": [
       "1500"
      ]
     },
     "execution_count": 1,
     "metadata": {},
     "output_type": "execute_result"
    }
   ],
   "source": [
    "30 * 50"
   ]
  },
  {
   "cell_type": "markdown",
   "metadata": {},
   "source": [
    "# Using variables\n",
    "\n",
    "Here, we add variables.  Now you can use these names to create the calculation.  While the intention isn't yet totally clear here, the reader can see at least that these two numbers are related to the dimensions of some shape.\n",
    "\n",
    "One added benefit, is that you can update the numbers if you need to and repeat the calculation.  \n",
    "\n",
    "# The equals sign\n",
    "\n",
    "In this context, the equals sign instructs the computer to place whatever is on the right hand side of the equals into a box with the label on the left-hand side of the equals sign.  This will be different than your experience with calculators and some other programs (Calca) where you often place an equals sign after a series of operations.\n",
    "\n",
    "If you are having problems, it is likely that the computer cannot determine how to label your \"box\" that you would like to store a number in."
   ]
  },
  {
   "cell_type": "code",
   "execution_count": 2,
   "metadata": {
    "collapsed": false
   },
   "outputs": [
    {
     "data": {
      "text/plain": [
       "1500"
      ]
     },
     "execution_count": 2,
     "metadata": {},
     "output_type": "execute_result"
    }
   ],
   "source": [
    "length = 30\n",
    "width = 50\n",
    "length * width"
   ]
  },
  {
   "cell_type": "code",
   "execution_count": null,
   "metadata": {
    "collapsed": true
   },
   "outputs": [],
   "source": []
  }
 ],
 "metadata": {
  "kernelspec": {
   "display_name": "Python 3",
   "language": "python",
   "name": "python3"
  },
  "language_info": {
   "codemirror_mode": {
    "name": "ipython",
    "version": 3
   },
   "file_extension": ".py",
   "mimetype": "text/x-python",
   "name": "python",
   "nbconvert_exporter": "python",
   "pygments_lexer": "ipython3",
   "version": "3.4.4"
  }
 },
 "nbformat": 4,
 "nbformat_minor": 0
}
