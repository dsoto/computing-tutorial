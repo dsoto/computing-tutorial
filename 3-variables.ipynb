{
 "cells": [
  {
   "cell_type": "markdown",
   "metadata": {},
   "source": [
    "One important benefit of using more advanced computing tools is that we can refer to numbers by a name that helps us understand the meaning of each number we are using and the intent of the calculation.\n",
    "\n",
    "Look at this calculation much like you would enter it on a calculator.  It is very clear that you are multiplying the number 30 by the number 50 but there is no indication of why you are doing that."
   ]
  },
  {
   "cell_type": "code",
   "execution_count": 1,
   "metadata": {
    "collapsed": false
   },
   "outputs": [
    {
     "data": {
      "text/plain": [
       "1500"
      ]
     },
     "execution_count": 1,
     "metadata": {},
     "output_type": "execute_result"
    }
   ],
   "source": [
    "30 * 50"
   ]
  },
  {
   "cell_type": "markdown",
   "metadata": {},
   "source": [
    "Here, we add variables.  Now you can use these names to create the calculation.  While the intention isn't yet totally clear here, the reader can see at least that these two numbers are related to the dimensions of some shape.\n",
    "\n",
    "The equals sign does not mean what you would expect.  It just means to place the number on the right side of the equals sign into a sort of box that the computer uses with the name on the left side of the equals sign.\n",
    "\n",
    "One added benefit, is that you can update the numbers if you need to and repeat the calculation.  "
   ]
  },
  {
   "cell_type": "code",
   "execution_count": 2,
   "metadata": {
    "collapsed": false
   },
   "outputs": [
    {
     "data": {
      "text/plain": [
       "1500"
      ]
     },
     "execution_count": 2,
     "metadata": {},
     "output_type": "execute_result"
    }
   ],
   "source": [
    "length = 30\n",
    "width = 50\n",
    "length * width"
   ]
  },
  {
   "cell_type": "code",
   "execution_count": null,
   "metadata": {
    "collapsed": true
   },
   "outputs": [],
   "source": []
  }
 ],
 "metadata": {
  "kernelspec": {
   "display_name": "Python 3",
   "language": "python",
   "name": "python3"
  },
  "language_info": {
   "codemirror_mode": {
    "name": "ipython",
    "version": 3
   },
   "file_extension": ".py",
   "mimetype": "text/x-python",
   "name": "python",
   "nbconvert_exporter": "python",
   "pygments_lexer": "ipython3",
   "version": "3.4.3"
  }
 },
 "nbformat": 4,
 "nbformat_minor": 0
}
