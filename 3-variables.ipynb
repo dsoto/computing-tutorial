{
 "cells": [
  {
   "cell_type": "markdown",
   "metadata": {
    "collapsed": true
   },
   "source": [
    "# Variables\n",
    "\n",
    "You can come up with a name and ask the computer to store a number in it.  You can then use this name in computations.  This has several advantages in understanding the computation and reducing the opportunity for errors."
   ]
  },
  {
   "cell_type": "markdown",
   "metadata": {},
   "source": [
    "# Why use variables?\n",
    "\n",
    "One important benefit of using more advanced computing tools is that we can refer to numbers by a name that helps us understand the meaning of each number we are using and the intent of the calculation.\n",
    "\n",
    "Look at this calculation much like you would enter it on a calculator.  It is very clear that you are multiplying the number 30 by the number 50 but there is no indication of why you are doing that."
   ]
  },
  {
   "cell_type": "code",
   "execution_count": 1,
   "metadata": {
    "collapsed": false
   },
   "outputs": [
    {
     "data": {
      "text/plain": [
       "1500.0"
      ]
     },
     "execution_count": 1,
     "metadata": {},
     "output_type": "execute_result"
    }
   ],
   "source": [
    "30.0 * 50.0"
   ]
  },
  {
   "cell_type": "markdown",
   "metadata": {},
   "source": [
    "# Using variables\n",
    "\n",
    "Here, we add variables.  Now you can use these names to create the calculation.  While the intention isn't yet totally clear here, the reader can see at least that these two numbers are related to the dimensions of some shape.\n",
    "\n",
    "One added benefit, is that you can update the numbers if you need to and repeat the calculation.  \n",
    "\n",
    "# The equals sign\n",
    "\n",
    "In this context, the equals sign instructs the computer to place whatever is on the right hand side of the equals into a box with the label on the left-hand side of the equals sign.  This will be different than your experience with calculators and some other programs (Calca) where you often place an equals sign after a series of operations.\n",
    "\n",
    "If you are having problems, it is likely that the computer cannot determine how to label your \"box\" that you would like to store a number in."
   ]
  },
  {
   "cell_type": "code",
   "execution_count": 2,
   "metadata": {
    "collapsed": false
   },
   "outputs": [
    {
     "data": {
      "text/plain": [
       "1500.0"
      ]
     },
     "execution_count": 2,
     "metadata": {},
     "output_type": "execute_result"
    }
   ],
   "source": [
    "length = 30.0\n",
    "width = 50.0\n",
    "length * width"
   ]
  },
  {
   "cell_type": "markdown",
   "metadata": {
    "collapsed": true
   },
   "source": [
    "# Examining the value of a variable\n",
    "\n",
    "To see the value of a variable, you can write it on a single line in a cell and execute the cell.\n",
    "\n",
    "You can also use the command print (found in many languages) to output the value.  This has the advantage of being able to add other text."
   ]
  },
  {
   "cell_type": "code",
   "execution_count": 3,
   "metadata": {
    "collapsed": false
   },
   "outputs": [
    {
     "data": {
      "text/plain": [
       "30.0"
      ]
     },
     "execution_count": 3,
     "metadata": {},
     "output_type": "execute_result"
    }
   ],
   "source": [
    "length"
   ]
  },
  {
   "cell_type": "code",
   "execution_count": 4,
   "metadata": {
    "collapsed": false
   },
   "outputs": [
    {
     "name": "stdout",
     "output_type": "stream",
     "text": [
      "30.0\n",
      "the length is equal to 30.0\n"
     ]
    }
   ],
   "source": [
    "print(length)\n",
    "print('the length is equal to', length)"
   ]
  },
  {
   "cell_type": "markdown",
   "metadata": {
    "collapsed": true
   },
   "source": [
    "# A little more about variables\n",
    "\n",
    "The computer can store many things besides numbers in a variable.  To understand what the value is you can ask the computer to tell you what type it is using the `type` command.  You are mostly using what the computer calls a `float` to represent a number.  \n",
    "\n",
    "To illustrate another type of data, you could have a small block of text in a variable.  When we start using more sophisticated functions, you will often see these blocks of text in quotes.\n",
    "\n",
    "```\n",
    "word = 'half'\n",
    "```\n",
    "\n",
    "If you are ever curious about what kind of data is stored in your variable, the `type` command is a useful tool."
   ]
  },
  {
   "cell_type": "code",
   "execution_count": 5,
   "metadata": {
    "collapsed": false
   },
   "outputs": [
    {
     "data": {
      "text/plain": [
       "0.5"
      ]
     },
     "execution_count": 5,
     "metadata": {},
     "output_type": "execute_result"
    }
   ],
   "source": [
    "num = 0.5\n",
    "num"
   ]
  },
  {
   "cell_type": "code",
   "execution_count": 6,
   "metadata": {
    "collapsed": false
   },
   "outputs": [
    {
     "data": {
      "text/plain": [
       "float"
      ]
     },
     "execution_count": 6,
     "metadata": {},
     "output_type": "execute_result"
    }
   ],
   "source": [
    "type(num)"
   ]
  },
  {
   "cell_type": "code",
   "execution_count": 7,
   "metadata": {
    "collapsed": false
   },
   "outputs": [
    {
     "data": {
      "text/plain": [
       "'half'"
      ]
     },
     "execution_count": 7,
     "metadata": {},
     "output_type": "execute_result"
    }
   ],
   "source": [
    "word = 'half'\n",
    "word"
   ]
  },
  {
   "cell_type": "code",
   "execution_count": 8,
   "metadata": {
    "collapsed": false
   },
   "outputs": [
    {
     "data": {
      "text/plain": [
       "str"
      ]
     },
     "execution_count": 8,
     "metadata": {},
     "output_type": "execute_result"
    }
   ],
   "source": [
    "type(word)"
   ]
  },
  {
   "cell_type": "code",
   "execution_count": null,
   "metadata": {
    "collapsed": true
   },
   "outputs": [],
   "source": []
  }
 ],
 "metadata": {
  "kernelspec": {
   "display_name": "Python 3",
   "language": "python",
   "name": "python3"
  },
  "language_info": {
   "codemirror_mode": {
    "name": "ipython",
    "version": 3
   },
   "file_extension": ".py",
   "mimetype": "text/x-python",
   "name": "python",
   "nbconvert_exporter": "python",
   "pygments_lexer": "ipython3",
   "version": "3.4.4"
  }
 },
 "nbformat": 4,
 "nbformat_minor": 0
}
