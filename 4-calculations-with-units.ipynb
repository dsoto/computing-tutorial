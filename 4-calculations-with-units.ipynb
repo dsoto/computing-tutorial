{
 "cells": [
  {
   "cell_type": "markdown",
   "metadata": {},
   "source": [
    "# Using units\n",
    "\n",
    "There is another library that allows you to use units to store physical quantities in variables.  This library is called Pint.  This is an excellent tool but is not a substitute for understanding how to convert between units by hand.\n",
    "\n",
    "**Warning:** This is an advanced topic and has much potential for frustration.  If you want to learn to use this technique, be sure you understand the other topics and your course material well.  It will be very detrimental to your learning if your mastery of the core course material is lessened while you try to master this unit library.\n",
    "\n",
    "The documentation for the library can be found here:\n",
    "\n",
    "https://pint.readthedocs.org/en/0.6/\n",
    "\n",
    "\n",
    "# Basic Usage\n",
    "\n",
    "First we load the library and use an object called the unit registry which you can think of as a big dictionary of units that you can choose from."
   ]
  },
  {
   "cell_type": "code",
   "execution_count": 1,
   "metadata": {
    "collapsed": false
   },
   "outputs": [],
   "source": [
    "from pint import UnitRegistry\n",
    "u = UnitRegistry()"
   ]
  },
  {
   "cell_type": "markdown",
   "metadata": {},
   "source": [
    "Once you have this dictionary-like object, you can use it to define units and multiply them by values to get physical quantities.  When you do further operations, the units are also computed.\n",
    "\n",
    "In many calculations, we are dealing with physical quantities, not numbers.\n",
    "\n",
    "Here we create variables and store physical quantities in them.  When we multiply the result, we see that the computer interprets the units."
   ]
  },
  {
   "cell_type": "code",
   "execution_count": 2,
   "metadata": {
    "collapsed": false
   },
   "outputs": [
    {
     "data": {
      "text/html": [
       "50 meter<sup>2</sup>"
      ],
      "text/latex": [
       "$50 meter^{2}$"
      ],
      "text/plain": [
       "<Quantity(50, 'meter ** 2')>"
      ]
     },
     "execution_count": 2,
     "metadata": {},
     "output_type": "execute_result"
    }
   ],
   "source": [
    "length = 10 * u.meter\n",
    "width = 5 * u.meter\n",
    "length * width"
   ]
  },
  {
   "cell_type": "markdown",
   "metadata": {},
   "source": [
    "The real beauty of this comes from converting and checking units.  One excellent feature is the ability to convert units by using the ```to``` method.\n",
    "\n",
    "You take a physical quantity and then write ```.to(new units)``` and the software converts to a new unit system.\n",
    "\n",
    "Here I convert from square meters to square feet."
   ]
  },
  {
   "cell_type": "code",
   "execution_count": 3,
   "metadata": {
    "collapsed": false
   },
   "outputs": [
    {
     "data": {
      "text/html": [
       "538.1955208354861 foot<sup>2</sup>"
      ],
      "text/latex": [
       "$538.1955208354861 foot^{2}$"
      ],
      "text/plain": [
       "<Quantity(538.1955208354861, 'foot ** 2')>"
      ]
     },
     "execution_count": 3,
     "metadata": {},
     "output_type": "execute_result"
    }
   ],
   "source": [
    "(length * width).to(u.feet**2)"
   ]
  },
  {
   "cell_type": "markdown",
   "metadata": {},
   "source": [
    "This allows you to mix units and then convert at the end of the calculation."
   ]
  },
  {
   "cell_type": "code",
   "execution_count": 4,
   "metadata": {
    "collapsed": false
   },
   "outputs": [
    {
     "name": "stdout",
     "output_type": "stream",
     "text": [
      "unconverted: 150 foot * meter\n",
      "converted: 492.12598425196836 foot ** 2\n"
     ]
    }
   ],
   "source": [
    "length = 10 * u.meter\n",
    "width = 15 * u.feet\n",
    "print('unconverted:', length * width)\n",
    "print('converted:', (length*width).to(u.feet**2))"
   ]
  },
  {
   "cell_type": "markdown",
   "metadata": {},
   "source": [
    "Some conversions that your discipline might consider automatic may need explicit help."
   ]
  },
  {
   "cell_type": "code",
   "execution_count": 5,
   "metadata": {
    "collapsed": false
   },
   "outputs": [
    {
     "name": "stdout",
     "output_type": "stream",
     "text": [
      "unconverted: 1500.0 ampere * volt\n",
      "converted: 1500.0 watt\n"
     ]
    }
   ],
   "source": [
    "voltage = 120 * u.volt\n",
    "current = 12.5 * u.amp\n",
    "print('unconverted:', voltage * current)\n",
    "print('converted:', (voltage * current).to(u.watt))"
   ]
  },
  {
   "cell_type": "markdown",
   "metadata": {},
   "source": [
    "# Arbitrary Units and Prefixes\n",
    "\n",
    "Not all units that we may want to keep track of are fundamental physical units."
   ]
  },
  {
   "cell_type": "code",
   "execution_count": 6,
   "metadata": {
    "collapsed": false
   },
   "outputs": [
    {
     "data": {
      "text/html": [
       "6.0 pizza"
      ],
      "text/latex": [
       "$6.0 pizza$"
      ],
      "text/plain": [
       "<Quantity(6.0, 'pizza')>"
      ]
     },
     "execution_count": 6,
     "metadata": {},
     "output_type": "execute_result"
    }
   ],
   "source": [
    "u.define('people = []')\n",
    "u.define('pizza = []')\n",
    "\n",
    "party_goers = 24 * u.people\n",
    "appetite = 0.25 * u.pizza / u.people\n",
    "\n",
    "party_goers * appetite"
   ]
  },
  {
   "cell_type": "markdown",
   "metadata": {},
   "source": [
    "Energy has many arcane units that can be easily defined and manipulated."
   ]
  },
  {
   "cell_type": "code",
   "execution_count": 7,
   "metadata": {
    "collapsed": false
   },
   "outputs": [
    {
     "data": {
      "text/html": [
       "171.1193290604199 watt"
      ],
      "text/latex": [
       "$171.1193290604199 watt$"
      ],
      "text/plain": [
       "<Quantity(171.1193290604199, 'watt')>"
      ]
     },
     "execution_count": 7,
     "metadata": {},
     "output_type": "execute_result"
    }
   ],
   "source": [
    "u.define('BOE = 5.4e9 joule')\n",
    "(1 * u.BOE / u.year).to(u.watt)"
   ]
  },
  {
   "cell_type": "code",
   "execution_count": 8,
   "metadata": {
    "collapsed": false
   },
   "outputs": [
    {
     "data": {
      "text/html": [
       "105700083402.46153 light_year"
      ],
      "text/latex": [
       "$105700083402.46153 light_year$"
      ],
      "text/plain": [
       "<Quantity(105700083402.46153, 'light_year')>"
      ]
     },
     "execution_count": 8,
     "metadata": {},
     "output_type": "execute_result"
    }
   ],
   "source": [
    "u.define('hella- = 1e27')\n",
    "(1 * u.hellameter).to(u.lightyear)"
   ]
  },
  {
   "cell_type": "markdown",
   "metadata": {},
   "source": [
    "There are also some utilities for formatting that are useful."
   ]
  },
  {
   "cell_type": "code",
   "execution_count": null,
   "metadata": {
    "collapsed": true
   },
   "outputs": [],
   "source": [
    "'{:.2e}'.format((1 * u.lightyear).to(u.meter))"
   ]
  },
  {
   "cell_type": "markdown",
   "metadata": {},
   "source": [
    "# Learning more\n",
    "\n",
    "A complete list of the units is available here:\n",
    "\n",
    "https://github.com/hgrecco/pint/blob/master/pint/constants_en.txt\n",
    "\n",
    "You will notice that this isn't a very user-friendly document.\n",
    "\n",
    "# Common units\n",
    "\n",
    "- u.BTU\n",
    "- u.meter\n",
    "- u.sec\n",
    "- u.hour\n",
    "- u.delta_degC\n",
    "- u.delta_degF\n",
    "- u.degK\n",
    "- u.feet\n",
    "- u.inch\n",
    "- u.joule\n",
    "- u.watt\n",
    "- u.therm\n",
    "\n",
    "To get areas and volumes you exponentiate the units\n",
    "\n",
    "- u.meter**2\n",
    "- u.meter**3\n"
   ]
  },
  {
   "cell_type": "markdown",
   "metadata": {},
   "source": [
    "# Converting Temperatures\n",
    "\n",
    "There are two types of temperture conversions that you can make, absolute and relative.  The Pint library has to know what type of conversion you are attempting.  "
   ]
  },
  {
   "cell_type": "code",
   "execution_count": 12,
   "metadata": {
    "collapsed": false
   },
   "outputs": [
    {
     "data": {
      "text/html": [
       "10.0 delta_degC"
      ],
      "text/latex": [
       "$10.0 delta_degC$"
      ],
      "text/plain": [
       "<Quantity(10.0, 'delta_degC')>"
      ]
     },
     "execution_count": 12,
     "metadata": {},
     "output_type": "execute_result"
    }
   ],
   "source": [
    "# relative temperature conversion\n",
    "delta_T = 18 * u.delta_degF\n",
    "delta_T.to(u.delta_degC)"
   ]
  },
  {
   "cell_type": "code",
   "execution_count": 13,
   "metadata": {
    "collapsed": false
   },
   "outputs": [
    {
     "data": {
      "text/html": [
       "0.0 degC"
      ],
      "text/latex": [
       "$0.0 degC$"
      ],
      "text/plain": [
       "<Quantity(0.0, 'degC')>"
      ]
     },
     "execution_count": 13,
     "metadata": {},
     "output_type": "execute_result"
    }
   ],
   "source": [
    "# absolute temperature conversion\n",
    "T = 273.15 * u.kelvin\n",
    "T.to(u.degC)"
   ]
  },
  {
   "cell_type": "markdown",
   "metadata": {
    "collapsed": true
   },
   "source": [
    "# Future Work\n",
    "\n",
    "Students frequently perform calculations where it is important to distinguish between a kilogram of coal and a kilogram of carbon dioxide.  It would be nice to be able to attach this information to a calculation.  I haven't come up with a satisfactory way to do this yet."
   ]
  }
 ],
 "metadata": {
  "kernelspec": {
   "display_name": "Python 3",
   "language": "python",
   "name": "python3"
  },
  "language_info": {
   "codemirror_mode": {
    "name": "ipython",
    "version": 3
   },
   "file_extension": ".py",
   "mimetype": "text/x-python",
   "name": "python",
   "nbconvert_exporter": "python",
   "pygments_lexer": "ipython3",
   "version": "3.4.4"
  }
 },
 "nbformat": 4,
 "nbformat_minor": 0
}
