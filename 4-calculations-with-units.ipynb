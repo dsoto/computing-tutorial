{
 "cells": [
  {
   "cell_type": "markdown",
   "metadata": {},
   "source": [
    "# Using units\n",
    "\n",
    "There is another library that allows you to use units to store physical quantities in variables.  This library is called Pint.\n",
    "\n",
    "**Warning:** This is an advanced topic and has much potential for frustration.  If you want to learn to use this technique, be sure you understand the other topics and your course material well.  It will be very detrimental to your learning if your mastery of the core course material is lessened while you try to master this unit library.\n",
    "\n",
    "https://pint.readthedocs.org/en/0.6/\n",
    "\n",
    "First we load the library and use an object called the unit registry which you can think of as a big dictionary of units that you can choose from."
   ]
  },
  {
   "cell_type": "code",
   "execution_count": 1,
   "metadata": {
    "collapsed": false
   },
   "outputs": [],
   "source": [
    "from pint import UnitRegistry\n",
    "u = UnitRegistry()"
   ]
  },
  {
   "cell_type": "code",
   "execution_count": 2,
   "metadata": {
    "collapsed": false
   },
   "outputs": [
    {
     "data": {
      "text/html": [
       "12 meter<sup>2</sup>"
      ],
      "text/latex": [
       "$12 meter^{2}$"
      ],
      "text/plain": [
       "<Quantity(12, 'meter ** 2')>"
      ]
     },
     "execution_count": 2,
     "metadata": {},
     "output_type": "execute_result"
    }
   ],
   "source": [
    "length = 3 * u.meter\n",
    "width = 4 * u.meter\n",
    "area = length * width\n",
    "area"
   ]
  },
  {
   "cell_type": "markdown",
   "metadata": {},
   "source": [
    "The real beauty of this comes from converting and checking units.  Here I convert from square meters to square feet."
   ]
  },
  {
   "cell_type": "code",
   "execution_count": 3,
   "metadata": {
    "collapsed": false
   },
   "outputs": [
    {
     "data": {
      "text/html": [
       "129.16692500051667 foot<sup>2</sup>"
      ],
      "text/latex": [
       "$129.16692500051667 foot^{2}$"
      ],
      "text/plain": [
       "<Quantity(129.16692500051667, 'foot ** 2')>"
      ]
     },
     "execution_count": 3,
     "metadata": {},
     "output_type": "execute_result"
    }
   ],
   "source": [
    "area.to(u.feet**2)"
   ]
  },
  {
   "cell_type": "markdown",
   "metadata": {},
   "source": [
    "# Learning more\n",
    "\n",
    "A complete list of the units is available here:\n",
    "\n",
    "https://github.com/hgrecco/pint/blob/master/pint/constants_en.txt\n",
    "\n",
    "You will notice that this isn't a very user-friendly document."
   ]
  },
  {
   "cell_type": "markdown",
   "metadata": {},
   "source": [
    "# Converting Temperatures\n",
    "\n",
    "There are two types of temperture conversions that you can make, absolute and relative.  The Pint library has to know what type of conversion you are attempting.  "
   ]
  },
  {
   "cell_type": "code",
   "execution_count": 5,
   "metadata": {
    "collapsed": false
   },
   "outputs": [
    {
     "data": {
      "text/html": [
       "10.0 delta_degC"
      ],
      "text/latex": [
       "$10.0 delta_degC$"
      ],
      "text/plain": [
       "<Quantity(10.0, 'delta_degC')>"
      ]
     },
     "execution_count": 5,
     "metadata": {},
     "output_type": "execute_result"
    }
   ],
   "source": [
    "# relative temperature conversion\n",
    "delta_T = 18 * u.delta_degF\n",
    "delta_T.to(u.delta_degC)"
   ]
  },
  {
   "cell_type": "code",
   "execution_count": 11,
   "metadata": {
    "collapsed": false
   },
   "outputs": [
    {
     "data": {
      "text/html": [
       "0.0 degC"
      ],
      "text/latex": [
       "$0.0 degC$"
      ],
      "text/plain": [
       "<Quantity(0.0, 'degC')>"
      ]
     },
     "execution_count": 11,
     "metadata": {},
     "output_type": "execute_result"
    }
   ],
   "source": [
    "# absolute temperature conversion\n",
    "T = 273.15 * u.kelvin\n",
    "T.to(u.degC)"
   ]
  },
  {
   "cell_type": "code",
   "execution_count": null,
   "metadata": {
    "collapsed": true
   },
   "outputs": [],
   "source": []
  }
 ],
 "metadata": {
  "kernelspec": {
   "display_name": "Python 3",
   "language": "python",
   "name": "python3"
  },
  "language_info": {
   "codemirror_mode": {
    "name": "ipython",
    "version": 3
   },
   "file_extension": ".py",
   "mimetype": "text/x-python",
   "name": "python",
   "nbconvert_exporter": "python",
   "pygments_lexer": "ipython3",
   "version": "3.4.4"
  }
 },
 "nbformat": 4,
 "nbformat_minor": 0
}
