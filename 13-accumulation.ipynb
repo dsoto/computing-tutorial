{
 "cells": [
  {
   "cell_type": "markdown",
   "metadata": {},
   "source": [
    "A common calculation is one that spans over time and models the growth or decline of something.  \n",
    "\n",
    "If there is a growth rate included, this can be solved using a loop.\n",
    "\n",
    "At the end of each period, we calculate the interest and add it to the previous balance.\n",
    "We also add the payment for that period.\n",
    "\n",
    "Note that are payments are at the end of the period and don't get figured into the interest."
   ]
  },
  {
   "cell_type": "markdown",
   "metadata": {},
   "source": [
    "We can create a separate variable for each year and then do the calculation."
   ]
  },
  {
   "cell_type": "code",
   "execution_count": 1,
   "metadata": {
    "collapsed": false
   },
   "outputs": [
    {
     "data": {
      "text/plain": [
       "8142.008453125"
      ]
     },
     "execution_count": 1,
     "metadata": {},
     "output_type": "execute_result"
    }
   ],
   "source": [
    "payment = 1000.\n",
    "interest_rate = 0.05\n",
    "\n",
    "b0 = payment\n",
    "b1 = b0 * interest_rate + b0 + payment\n",
    "b2 = b1 * interest_rate + b1 + payment\n",
    "b3 = b2 * interest_rate + b2 + payment\n",
    "b4 = b3 * interest_rate + b3 + payment\n",
    "b5 = b4 * interest_rate + b4 + payment\n",
    "b6 = b5 * interest_rate + b5 + payment\n",
    "b6"
   ]
  },
  {
   "cell_type": "markdown",
   "metadata": {},
   "source": [
    "We can use an array here instead of separate variables for each year."
   ]
  },
  {
   "cell_type": "code",
   "execution_count": 2,
   "metadata": {
    "collapsed": false
   },
   "outputs": [
    {
     "data": {
      "text/plain": [
       "array([1000, 2050, 3152, 4309, 5524, 6800, 8140])"
      ]
     },
     "execution_count": 2,
     "metadata": {},
     "output_type": "execute_result"
    }
   ],
   "source": [
    "payment = 1000.\n",
    "interest_rate = 0.05\n",
    "\n",
    "import numpy as np\n",
    "b = np.array([0,0,0,0,0,0,0])\n",
    "b[0] = payment\n",
    "b[1] = b[0] * interest_rate + b[0] + payment\n",
    "b[2] = b[1] * interest_rate + b[1] + payment\n",
    "b[3] = b[2] * interest_rate + b[2] + payment\n",
    "b[4] = b[3] * interest_rate + b[3] + payment\n",
    "b[5] = b[4] * interest_rate + b[4] + payment\n",
    "b[6] = b[5] * interest_rate + b[5] + payment\n",
    "b"
   ]
  },
  {
   "cell_type": "markdown",
   "metadata": {},
   "source": [
    "If we look closely, we can notice a pattern.\n",
    "By using the loop programming technique, we can simplify this calculation and make it easier to understand."
   ]
  },
  {
   "cell_type": "code",
   "execution_count": 3,
   "metadata": {
    "collapsed": false
   },
   "outputs": [
    {
     "data": {
      "text/plain": [
       "array([ 1000.,  1000.,  1000.,  1000.,  1000.,  1000.,  1000.,  1000.,\n",
       "        1000.,  1000.])"
      ]
     },
     "execution_count": 3,
     "metadata": {},
     "output_type": "execute_result"
    }
   ],
   "source": [
    "import numpy as np\n",
    "payment = 1000.\n",
    "payments = np.ones(10) * payment\n",
    "payments"
   ]
  },
  {
   "cell_type": "code",
   "execution_count": 4,
   "metadata": {
    "collapsed": false
   },
   "outputs": [
    {
     "data": {
      "text/plain": [
       "array([ 0.,  0.,  0.,  0.,  0.,  0.,  0.,  0.,  0.,  0.])"
      ]
     },
     "execution_count": 4,
     "metadata": {},
     "output_type": "execute_result"
    }
   ],
   "source": [
    "balance = np.zeros(10)\n",
    "balance"
   ]
  },
  {
   "cell_type": "markdown",
   "metadata": {},
   "source": [
    "We now want to fill up the balance with the values from our growing investment."
   ]
  },
  {
   "cell_type": "code",
   "execution_count": 5,
   "metadata": {
    "collapsed": false
   },
   "outputs": [],
   "source": [
    "interest_rate = 0.05\n",
    "balance[0] = payment\n",
    "for i in range(1, len(payments)):\n",
    "    balance[i] = balance[i-1] + balance[i-1] * interest_rate + payment"
   ]
  },
  {
   "cell_type": "code",
   "execution_count": 6,
   "metadata": {
    "collapsed": false
   },
   "outputs": [
    {
     "data": {
      "text/plain": [
       "array([  1000.        ,   2050.        ,   3152.5       ,   4310.125     ,\n",
       "         5525.63125   ,   6801.9128125 ,   8142.00845313,   9549.10887578,\n",
       "        11026.56431957,  12577.89253555])"
      ]
     },
     "execution_count": 6,
     "metadata": {},
     "output_type": "execute_result"
    }
   ],
   "source": [
    "balance"
   ]
  },
  {
   "cell_type": "code",
   "execution_count": 7,
   "metadata": {
    "collapsed": false
   },
   "outputs": [
    {
     "name": "stdout",
     "output_type": "stream",
     "text": [
      "[   1000.            2004.16666667    3012.51736111    4025.06951678\n",
      "    5041.84063977    6062.8483091     7088.11017706    8117.64396946\n",
      "    9151.467486     10189.59860052   11232.05526136   12278.85549162\n",
      "   13330.0173895    14385.55912862   15445.49895832   16509.85520398\n",
      "   17578.64626733   18651.89062678   19729.60683772   20811.81353288\n",
      "   21898.5294226    22989.7732952    24085.56401726   25185.920534\n",
      "   26290.86186956   27400.40712735   28514.57549038   29633.38622159\n",
      "   30756.85866418   31885.01224194   33017.86645962   34155.4409032\n",
      "   35297.7552403    36444.82922047   37596.68267555   38753.33552003\n",
      "   39914.80775137   41081.11945033   42252.29078137   43428.34199296\n",
      "   44609.29341793   45795.16547384   46985.97866332   48181.75357441\n",
      "   49382.51088097   50588.27134298   51799.05580691   53014.8852061\n",
      "   54235.78056113   55461.76298013   56692.85365921   57929.07388279\n",
      "   59170.44502397   60416.98854491   61668.72599718   62925.67902217\n",
      "   64187.86935142   65455.31880706   66728.04930208   68006.08284084\n",
      "   69289.44151935   70578.14752568   71872.22314037   73171.69073679\n",
      "   74476.57278152   75786.89183478   77102.67055076   78423.93167805\n",
      "   79750.69806004   81082.99263529   82420.83843794   83764.2585981\n",
      "   85113.27634226   86467.91499368   87828.19797282   89194.14879771\n",
      "   90565.79108437   91943.14854722   93326.2449995    94715.10435366\n",
      "   96109.7506218    97510.20791606   98916.50044905  100328.65253425]\n"
     ]
    }
   ],
   "source": [
    "# Here we perform a five percent annual interest compounded monthly\n",
    "import numpy as np\n",
    "payment = 1000.\n",
    "balance = np.zeros(84)\n",
    "interest_rate = 0.05 / 12\n",
    "balance[0] = payment\n",
    "for i in range(1, len(balance)):\n",
    "    balance[i] = balance[i-1] + balance[i-1] * interest_rate + payment\n",
    "print(balance)"
   ]
  },
  {
   "cell_type": "code",
   "execution_count": 8,
   "metadata": {
    "collapsed": false
   },
   "outputs": [
    {
     "data": {
      "text/plain": [
       "100.32865253424956"
      ]
     },
     "execution_count": 8,
     "metadata": {},
     "output_type": "execute_result"
    }
   ],
   "source": [
    "## annuity formula to check result\n",
    "i = 0.05 / 12\n",
    "n = 84\n",
    "((1+i)**n - 1)/i"
   ]
  },
  {
   "cell_type": "code",
   "execution_count": null,
   "metadata": {
    "collapsed": true
   },
   "outputs": [],
   "source": []
  }
 ],
 "metadata": {
  "kernelspec": {
   "display_name": "Python 3",
   "language": "python",
   "name": "python3"
  },
  "language_info": {
   "codemirror_mode": {
    "name": "ipython",
    "version": 3
   },
   "file_extension": ".py",
   "mimetype": "text/x-python",
   "name": "python",
   "nbconvert_exporter": "python",
   "pygments_lexer": "ipython3",
   "version": "3.4.4"
  }
 },
 "nbformat": 4,
 "nbformat_minor": 0
}
