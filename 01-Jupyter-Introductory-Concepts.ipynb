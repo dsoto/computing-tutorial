{
 "cells": [
  {
   "cell_type": "markdown",
   "metadata": {},
   "source": [
    "\n",
    "We will begin by treating this tool much as you would the common TI-84 calculator.  However, these tools have been used to detect black hole collisions and many other sophisticated tasks.  As you progress in your learning, you can add more complexity and power to your skills.\n",
    "\n",
    "Like a calculator, you can enter calculations and then have the computer display the results.  If you have a list of calculations the result of the last one will be displayed.\n",
    "\n",
    "\n",
    "\n",
    "## Jupyter\n",
    "\n",
    "- Jupyter is like a word processor and spreadsheet in one program\n",
    "- By mixing words and computations together, you can clearly explain\n",
    "    your approach to an estimation\n",
    "- It has blocks or cells of text that are sent to the program of your\n",
    "    choice to be interpreted\n",
    "- Markdown: our word processor\n",
    "- Python: our spreadsheet or computation program\n",
    "- You press shift-enter to evaluate a cell\n",
    "\n"
   ]
  },
  {
   "cell_type": "markdown",
   "metadata": {
    "collapsed": true
   },
   "source": [
    "# Cells\n",
    "\n",
    "The Jupyter Notebook is made up of blocks called cells.  These are blocks of text that the author wants to be grouped together.  To make a new cell you can use the cell menu or find the keyboard shortcuts.\n",
    "\n",
    "# Kernels\n",
    "\n",
    "Just like all data on a computer are grids ones and zeros that must be interpreted in a certain way to have meaning, the text and characters in a cell can be sent to different computer programs and interpreted in different ways.\n",
    "\n",
    "Use the menus \"Cell->Cell Type->Markdown\" and \"Cell->Cell Type->Code\" to \n",
    "change the program that interprets the cell below.  Notice the different results."
   ]
  },
  {
   "cell_type": "code",
   "execution_count": null,
   "metadata": {
    "collapsed": true
   },
   "outputs": [],
   "source": [
    "# This is a cell\n",
    "\n",
    "1 + 1"
   ]
  }
 ],
 "metadata": {
  "kernelspec": {
   "display_name": "Python 3",
   "language": "python",
   "name": "python3"
  },
  "language_info": {
   "codemirror_mode": {
    "name": "ipython",
    "version": 3
   },
   "file_extension": ".py",
   "mimetype": "text/x-python",
   "name": "python",
   "nbconvert_exporter": "python",
   "pygments_lexer": "ipython3",
   "version": "3.4.4"
  }
 },
 "nbformat": 4,
 "nbformat_minor": 0
}
