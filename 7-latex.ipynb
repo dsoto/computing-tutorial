{
 "cells": [
  {
   "cell_type": "markdown",
   "metadata": {},
   "source": [
    "# Typesetting mathematics\n",
    "\n",
    "If you want to create typeset mathematics in a Jupyter Notebook (like $\\Delta$), you can use the LaTeX language.\n",
    "\n",
    "If you type letters between two sets of dollar signs, they will be interpreted as mathematics.  For example typing `$\\Delta$` will result in a $\\Delta$ symbol.  If you don't include the dollar signs, you just get \\Delta.  If you want the equation to sit on its own line, use two sets of dollar signs like `$$\\Delta$$` and you get \n",
    "\n",
    "$$\\Delta$$\n",
    "\n",
    "Here is a nice \n",
    "[list](http://web.ift.uib.no/Teori/KURS/WRK/TeX/symALL.html)\n",
    "of many available symbols.\n",
    "\n",
    "A commonly used symbol is the fraction typing `$\\frac{x}{y}$` results in $\\frac{x}{y}$. \n",
    "\n",
    "This is especially useful for showing unit and calculation details like this\n",
    "\n",
    "$$ 50 \\cdot \\frac{1055 J}{BTU} =  5.3 \\cdot 10^{4} J$$ \n",
    "\n"
   ]
  },
  {
   "cell_type": "code",
   "execution_count": null,
   "metadata": {
    "collapsed": true
   },
   "outputs": [],
   "source": []
  }
 ],
 "metadata": {
  "kernelspec": {
   "display_name": "Python 3",
   "language": "python",
   "name": "python3"
  },
  "language_info": {
   "codemirror_mode": {
    "name": "ipython",
    "version": 3
   },
   "file_extension": ".py",
   "mimetype": "text/x-python",
   "name": "python",
   "nbconvert_exporter": "python",
   "pygments_lexer": "ipython3",
   "version": "3.4.4"
  }
 },
 "nbformat": 4,
 "nbformat_minor": 0
}
